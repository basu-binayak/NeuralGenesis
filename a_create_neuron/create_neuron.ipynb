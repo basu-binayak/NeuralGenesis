{
 "cells": [
  {
   "cell_type": "markdown",
   "metadata": {},
   "source": [
    "# Creating a Neuron"
   ]
  },
  {
   "cell_type": "code",
   "execution_count": 1,
   "metadata": {},
   "outputs": [],
   "source": [
    "class Neuron:\n",
    "    def __init__(self, weights: list, bias: float) -> None:\n",
    "        \"\"\"\n",
    "        Initialize the neuron with weights and a bias.\n",
    "        :param weights: List of weights for each input.\n",
    "        :param bias: The bias term for the neuron.\n",
    "        \"\"\"\n",
    "        self.weights = weights \n",
    "        self.bias = bias \n",
    "    \n",
    "    def output(self, inputs) -> float:\n",
    "        \"\"\"\n",
    "        Calculate the output of the neuron using the formula:\n",
    "        output = sum(inputs[i] * weights[i]) + bias\n",
    "        :param inputs: List of input values.\n",
    "        :return: The raw output of the neuron.\n",
    "        \"\"\"\n",
    "        # Weighted sum calculation\n",
    "        return sum(w * i for w,i in zip(self.weights, inputs)) + self.bias"
   ]
  },
  {
   "cell_type": "code",
   "execution_count": 4,
   "metadata": {},
   "outputs": [
    {
     "name": "stdout",
     "output_type": "stream",
     "text": [
      "Neuron output: 2.30\n"
     ]
    }
   ],
   "source": [
    "# Create a Neuron with three inputs \n",
    "weights = [0.2, 0.8, -0.5]  # Example weights\n",
    "bias = 2                  # Example bias\n",
    "neuron = Neuron(weights, bias)\n",
    "\n",
    "inputs = [1, 2, 3]  # Example inputs\n",
    "output = neuron.output(inputs)\n",
    "print(f\"Neuron output: {output:.2f}\")"
   ]
  },
  {
   "cell_type": "code",
   "execution_count": 5,
   "metadata": {},
   "outputs": [
    {
     "name": "stdout",
     "output_type": "stream",
     "text": [
      "Neuron output: 4.80\n"
     ]
    }
   ],
   "source": [
    "# Create a Neuron with four inputs \n",
    "weights = [0.2, 0.8, -0.5, 1]  # Example weights\n",
    "bias = 2                  # Example bias\n",
    "neuron = Neuron(weights, bias)\n",
    "\n",
    "inputs = [1, 2, 3, 2.5]  # Example inputs\n",
    "output = neuron.output(inputs)\n",
    "print(f\"Neuron output: {output:.2f}\")"
   ]
  },
  {
   "cell_type": "code",
   "execution_count": null,
   "metadata": {},
   "outputs": [],
   "source": []
  }
 ],
 "metadata": {
  "kernelspec": {
   "display_name": "env",
   "language": "python",
   "name": "python3"
  },
  "language_info": {
   "codemirror_mode": {
    "name": "ipython",
    "version": 3
   },
   "file_extension": ".py",
   "mimetype": "text/x-python",
   "name": "python",
   "nbconvert_exporter": "python",
   "pygments_lexer": "ipython3",
   "version": "3.13.1"
  }
 },
 "nbformat": 4,
 "nbformat_minor": 2
}
