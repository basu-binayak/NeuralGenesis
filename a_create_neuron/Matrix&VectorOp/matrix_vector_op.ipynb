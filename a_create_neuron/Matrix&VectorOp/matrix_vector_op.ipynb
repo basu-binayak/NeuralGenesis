{
 "cells": [
  {
   "cell_type": "markdown",
   "metadata": {},
   "source": [
    "# Matrix and Vector Operations "
   ]
  },
  {
   "cell_type": "code",
   "execution_count": 1,
   "metadata": {},
   "outputs": [],
   "source": [
    "# import numpy\n",
    "import numpy as np"
   ]
  },
  {
   "cell_type": "markdown",
   "metadata": {},
   "source": [
    "## `np.dot`\n",
    "\n",
    "**Matrix multiplication (dot product) between two given arrays representing vectors, arrays, or tensors.**"
   ]
  },
  {
   "cell_type": "code",
   "execution_count": 20,
   "metadata": {},
   "outputs": [
    {
     "name": "stdout",
     "output_type": "stream",
     "text": [
      "Array A : \n",
      " [[1 2 3]\n",
      " [4 5 6]]\n",
      "Array B : \n",
      " [[1 2]\n",
      " [3 4]\n",
      " [5 6]]\n"
     ]
    }
   ],
   "source": [
    "# consider two 2D arrays \n",
    "A = np.arange(1, 7).reshape(2, 3)\n",
    "print(f\"Array A : \\n {A}\")\n",
    "\n",
    "B = np.arange(1, 7).reshape(3, 2)\n",
    "print(f\"Array B : \\n {B}\")"
   ]
  },
  {
   "cell_type": "code",
   "execution_count": 5,
   "metadata": {},
   "outputs": [
    {
     "name": "stdout",
     "output_type": "stream",
     "text": [
      "A x B = \n",
      "[[22 28]\n",
      " [49 64]]\n",
      "B x A = \n",
      "[[ 9 12 15]\n",
      " [19 26 33]\n",
      " [29 40 51]]\n"
     ]
    }
   ],
   "source": [
    "# Matrix Multiplication \n",
    "print(f\"A x B = \\n{np.dot(A,B)}\")\n",
    "\n",
    "print(f\"B x A = \\n{np.dot(B,A)}\")"
   ]
  },
  {
   "cell_type": "code",
   "execution_count": 25,
   "metadata": {},
   "outputs": [
    {
     "name": "stdout",
     "output_type": "stream",
     "text": [
      "A.B = 175\n",
      "A.B = 175\n"
     ]
    }
   ],
   "source": [
    "# Instead if I take a one dimensional array we get a dot product\n",
    "A = np.arange(1, 7)\n",
    "B = np.arange(5, 11)\n",
    "\n",
    "# Dot product\n",
    "print(f\"A.B = {np.dot(A,B)}\")\n",
    "\n",
    "# np.inner does the same \n",
    "print(f\"A.B = {np.inner(A,B)}\")"
   ]
  },
  {
   "cell_type": "code",
   "execution_count": 21,
   "metadata": {},
   "outputs": [
    {
     "name": "stdout",
     "output_type": "stream",
     "text": [
      "Array A : \n",
      " [[ 1  2  3]\n",
      " [ 4  5  6]\n",
      " [ 7  8  9]\n",
      " [10 11 12]]\n",
      "Array B : \n",
      " [[1]\n",
      " [2]\n",
      " [3]]\n",
      "A x B = \n",
      "[[14]\n",
      " [32]\n",
      " [50]\n",
      " [68]]\n"
     ]
    }
   ],
   "source": [
    "# A Matrix times a vector \n",
    "A = np.arange(1, 13).reshape(4, 3)\n",
    "print(f\"Array A : \\n {A}\")\n",
    "\n",
    "B = np.arange(1, 4)[: , np.newaxis]\n",
    "print(f\"Array B : \\n {B}\")\n",
    "\n",
    "print(f\"A x B = \\n{np.dot(A, B)}\")"
   ]
  },
  {
   "cell_type": "code",
   "execution_count": 24,
   "metadata": {},
   "outputs": [
    {
     "name": "stdout",
     "output_type": "stream",
     "text": [
      "B x A = \n",
      "[[ 5 10 15 20 25 30]\n",
      " [ 6 12 18 24 30 36]\n",
      " [ 7 14 21 28 35 42]\n",
      " [ 8 16 24 32 40 48]\n",
      " [ 9 18 27 36 45 54]\n",
      " [10 20 30 40 50 60]]\n",
      "A.B = [[175]]\n"
     ]
    }
   ],
   "source": [
    "# Let us now consider vectors \n",
    "A = np.arange(1, 7)[np.newaxis,:]\n",
    "B = np.arange(5, 11)[:, np.newaxis]\n",
    "\n",
    "# Thus A is a (1x6) matrix and B is a (6x1) matrix\n",
    "\n",
    "# B x A gives a (6x6) matrix \n",
    "print(f\"B x A = \\n{np.dot(B,A)}\")\n",
    "\n",
    "# Dot Product as a (1X1) matrix i.e 2D array\n",
    "print(f\"A.B = {np.dot(A,B)}\")\n"
   ]
  },
  {
   "cell_type": "code",
   "execution_count": 29,
   "metadata": {},
   "outputs": [
    {
     "name": "stdout",
     "output_type": "stream",
     "text": [
      "Array A : \n",
      " [[1 2 3]\n",
      " [4 5 6]]\n",
      "Array B : \n",
      " [1 2 3]\n",
      "Dot product between A and B is :\n",
      "[14 32]\n"
     ]
    }
   ],
   "source": [
    "# a 2D and a 1D array dot product\n",
    "\n",
    "A = np.arange(1, 7).reshape(2, 3)\n",
    "print(f\"Array A : \\n {A}\")\n",
    "\n",
    "B = np.arange(1, 4)\n",
    "print(f\"Array B : \\n {B}\")\n",
    "\n",
    "# dot product between A and B\n",
    "print(f\"Dot product between A and B is :\\n{np.dot(A,B)}\")"
   ]
  },
  {
   "cell_type": "markdown",
   "metadata": {},
   "source": [
    "Let us now calculate $Ap = BAB^{-1}$"
   ]
  },
  {
   "cell_type": "code",
   "execution_count": 26,
   "metadata": {},
   "outputs": [
    {
     "name": "stdout",
     "output_type": "stream",
     "text": [
      "[[-0.47586182  0.07716462  2.51127248]\n",
      " [-0.09928335  0.00338948  1.11863795]\n",
      " [-0.03554576  0.20164796  1.70533815]]\n"
     ]
    }
   ],
   "source": [
    "A = np.random.rand(3,3)\n",
    "B = np.random.rand(3,3)\n",
    "Ap = np.dot(B, np.dot(A, np.linalg.inv(B)))\n",
    "\n",
    "print(Ap)"
   ]
  }
 ],
 "metadata": {
  "kernelspec": {
   "display_name": "base",
   "language": "python",
   "name": "python3"
  },
  "language_info": {
   "codemirror_mode": {
    "name": "ipython",
    "version": 3
   },
   "file_extension": ".py",
   "mimetype": "text/x-python",
   "name": "python",
   "nbconvert_exporter": "python",
   "pygments_lexer": "ipython3",
   "version": "3.11.7"
  }
 },
 "nbformat": 4,
 "nbformat_minor": 2
}
