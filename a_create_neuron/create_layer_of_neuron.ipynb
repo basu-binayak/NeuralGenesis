{
 "cells": [
  {
   "cell_type": "markdown",
   "metadata": {},
   "source": [
    "# Create a layer of Neuron"
   ]
  },
  {
   "cell_type": "code",
   "execution_count": 6,
   "metadata": {},
   "outputs": [],
   "source": [
    "class Neuron:\n",
    "    def __init__(self, weights: list, bias: float) -> None:\n",
    "        \"\"\"\n",
    "        Initialize the neuron with weights and a bias.\n",
    "        :param weights: List of weights for each input.\n",
    "        :param bias: The bias term for the neuron.\n",
    "        \"\"\"\n",
    "        self.weights = weights \n",
    "        self.bias = bias \n",
    "    \n",
    "    def output(self, inputs) -> float:\n",
    "        \"\"\"\n",
    "        Calculate the output of the neuron using the formula:\n",
    "        output = sum(inputs[i] * weights[i]) + bias\n",
    "        :param inputs: List of input values.\n",
    "        :return: The raw output of the neuron.\n",
    "        \"\"\"\n",
    "        # Weighted sum calculation\n",
    "        return sum(w * i for w,i in zip(self.weights, inputs)) + self.bias\n",
    "\n",
    "class Layer:\n",
    "    def __init__(self, neurons):\n",
    "        \"\"\"\n",
    "        Initialize a layer with multiple neurons.\n",
    "        :param neurons: List of Neuron objects.\n",
    "        \"\"\"\n",
    "        self.neurons = neurons \n",
    "    \n",
    "    def outputs(self, inputs):\n",
    "        \"\"\"\n",
    "        Calculate the outputs of all neurons in the layer.\n",
    "        :param inputs: List of input values.\n",
    "        :return: List of outputs from all neurons.\n",
    "        \"\"\"\n",
    "        return [round(neuron.output(inputs),2) for neuron in self.neurons]"
   ]
  },
  {
   "cell_type": "code",
   "execution_count": 7,
   "metadata": {},
   "outputs": [
    {
     "name": "stdout",
     "output_type": "stream",
     "text": [
      "Layer outputs: [4.8, 1.21, 2.38]\n"
     ]
    }
   ],
   "source": [
    "# Example usage:\n",
    "# Initialize weights and biases for 3 neurons\n",
    "neuron1 = Neuron(weights=[0.2, 0.8, -0.5, 1.0], bias=2.0)\n",
    "neuron2 = Neuron(weights=[0.5, -0.91, 0.26, -0.5], bias=3.0)\n",
    "neuron3 = Neuron(weights=[-0.26, -0.27, 0.17, 0.87], bias=0.5)\n",
    "\n",
    "# Create a layer with these neurons\n",
    "layer = Layer(neurons=[neuron1, neuron2, neuron3])\n",
    "\n",
    "# Example input for the layer (4 inputs)\n",
    "inputs = [1, 2, 3, 2.5]\n",
    "\n",
    "# Get the outputs of the layer\n",
    "outputs = layer.outputs(inputs)\n",
    "print(f\"Layer outputs: {outputs}\")"
   ]
  },
  {
   "cell_type": "code",
   "execution_count": null,
   "metadata": {},
   "outputs": [],
   "source": []
  }
 ],
 "metadata": {
  "kernelspec": {
   "display_name": "env",
   "language": "python",
   "name": "python3"
  },
  "language_info": {
   "codemirror_mode": {
    "name": "ipython",
    "version": 3
   },
   "file_extension": ".py",
   "mimetype": "text/x-python",
   "name": "python",
   "nbconvert_exporter": "python",
   "pygments_lexer": "ipython3",
   "version": "3.13.1"
  }
 },
 "nbformat": 4,
 "nbformat_minor": 2
}
