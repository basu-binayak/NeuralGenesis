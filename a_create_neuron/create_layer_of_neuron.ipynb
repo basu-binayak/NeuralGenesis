{
 "cells": [
  {
   "cell_type": "markdown",
   "metadata": {},
   "source": [
    "# Create a layer of Neuron"
   ]
  },
  {
   "cell_type": "code",
   "execution_count": 9,
   "metadata": {},
   "outputs": [],
   "source": [
    "class Neuron:\n",
    "    def __init__(self, weights: list, bias: float) -> None:\n",
    "        \"\"\"\n",
    "        Initialize the neuron with weights and a bias.\n",
    "        :param weights: List of weights for each input.\n",
    "        :param bias: The bias term for the neuron.\n",
    "        \"\"\"\n",
    "        self.weights = weights \n",
    "        self.bias = bias \n",
    "    \n",
    "    def output(self, inputs) -> float:\n",
    "        \"\"\"\n",
    "        Calculate the output of the neuron using the formula:\n",
    "        output = sum(inputs[i] * weights[i]) + bias\n",
    "        :param inputs: List of input values.\n",
    "        :return: The raw output of the neuron.\n",
    "        \"\"\"\n",
    "        # Weighted sum calculation\n",
    "        return sum(w * i for w,i in zip(self.weights, inputs)) + self.bias\n",
    "\n",
    "class Layer:\n",
    "    def __init__(self, neurons):\n",
    "        \"\"\"\n",
    "        Initialize a layer with multiple neurons.\n",
    "        :param neurons: List of Neuron objects.\n",
    "        \"\"\"\n",
    "        self.neurons = neurons \n",
    "    \n",
    "    def outputs(self, inputs):\n",
    "        \"\"\"\n",
    "        Calculate the outputs of all neurons in the layer.\n",
    "        :param inputs: List of input values.\n",
    "        :return: List of outputs from all neurons.\n",
    "        \"\"\"\n",
    "        return [round(neuron.output(inputs),2) for neuron in self.neurons]"
   ]
  },
  {
   "cell_type": "code",
   "execution_count": 10,
   "metadata": {},
   "outputs": [
    {
     "name": "stdout",
     "output_type": "stream",
     "text": [
      "Layer outputs: [4.8, 1.21, 2.38]\n"
     ]
    }
   ],
   "source": [
    "# Example usage:\n",
    "# Initialize weights and biases for 3 neurons\n",
    "neuron1 = Neuron(weights=[0.2, 0.8, -0.5, 1.0], bias=2.0)\n",
    "neuron2 = Neuron(weights=[0.5, -0.91, 0.26, -0.5], bias=3.0)\n",
    "neuron3 = Neuron(weights=[-0.26, -0.27, 0.17, 0.87], bias=0.5)\n",
    "\n",
    "# Create a layer with these neurons\n",
    "layer = Layer(neurons=[neuron1, neuron2, neuron3])\n",
    "\n",
    "# Example input for the layer (4 inputs)\n",
    "inputs = [1, 2, 3, 2.5]\n",
    "\n",
    "# Get the outputs of the layer\n",
    "outputs = layer.outputs(inputs)\n",
    "print(f\"Layer outputs: {outputs}\")"
   ]
  },
  {
   "cell_type": "markdown",
   "metadata": {},
   "source": [
    "# Create a Layer using NumPy\n",
    " "
   ]
  },
  {
   "cell_type": "code",
   "execution_count": 30,
   "metadata": {},
   "outputs": [],
   "source": [
    "import numpy as np\n",
    "class Neuron:\n",
    "    def __init__(self, weights: \"np.array\", bias: float) -> None:\n",
    "        \"\"\"\n",
    "        Initialize the neuron with weights and a bias.\n",
    "        :param weights: NumPy array of weights for each input.\n",
    "        :param bias: The bias term for the neuron.\n",
    "        \"\"\"\n",
    "        self.weights = weights \n",
    "        self.bias = bias \n",
    "    \n",
    "    def output(self, inputs: \"np.array\") -> float:\n",
    "        \"\"\"\n",
    "        Calculate the output of the neuron using the formula:\n",
    "        output = sum(inputs[i] * weights[i]) + bias\n",
    "        :param inputs: NumPy array of input values.\n",
    "        :return: The raw output of the neuron.\n",
    "        \"\"\"\n",
    "        # Weighted sum calculation\n",
    "        return np.dot(inputs, self.weights) + self.bias\n",
    "\n",
    "class Layer:\n",
    "    def __init__(self, neurons):\n",
    "        \"\"\"\n",
    "        Initialize a layer with multiple neurons.\n",
    "        :param neurons: List of Neuron objects.\n",
    "        \"\"\"\n",
    "        self.neurons = neurons \n",
    "    \n",
    "    def outputs(self, inputs):\n",
    "        \"\"\"\n",
    "        Calculate the outputs of all neurons in the layer.\n",
    "        :param inputs: List of input values.\n",
    "        :return: List of outputs from all neurons.\n",
    "        \"\"\"\n",
    "        return np.array([neuron.output(inputs) for neuron in self.neurons])"
   ]
  },
  {
   "cell_type": "code",
   "execution_count": 27,
   "metadata": {},
   "outputs": [
    {
     "name": "stdout",
     "output_type": "stream",
     "text": [
      "Layer outputs: [4.8   1.21  2.385]\n"
     ]
    }
   ],
   "source": [
    "# Example usage:\n",
    "# Initialize weights and biases for 3 neurons\n",
    "neuron1 = Neuron(weights=[0.2, 0.8, -0.5, 1.0], bias=2.0)\n",
    "neuron2 = Neuron(weights=[0.5, -0.91, 0.26, -0.5], bias=3.0)\n",
    "neuron3 = Neuron(weights=[-0.26, -0.27, 0.17, 0.87], bias=0.5)\n",
    "\n",
    "# Create a layer with these neurons\n",
    "layer = Layer(neurons=[neuron1, neuron2, neuron3])\n",
    "\n",
    "# Example input for the layer (4 inputs)\n",
    "inputs = [1, 2, 3, 2.5]\n",
    "\n",
    "# Get the outputs of the layer\n",
    "outputs = layer.outputs(inputs)\n",
    "print(f\"Layer outputs: {outputs}\")"
   ]
  },
  {
   "cell_type": "code",
   "execution_count": 28,
   "metadata": {},
   "outputs": [
    {
     "name": "stdout",
     "output_type": "stream",
     "text": [
      "[4.8   1.21  2.385]\n"
     ]
    }
   ],
   "source": [
    "# Manual implementation\n",
    "\n",
    "# describe the inputs \n",
    "inputs = np.array([1.0 , 2.0 , 3.0 , 2.5 ])\n",
    "\n",
    "# describe the neurons i.e. the weights and the biases\n",
    "weights = np.array([[ 0.2 , 0.8 , - 0.5 , 1 ],\n",
    "                    [ 0.5 , - 0.91 , 0.26 , - 0.5 ],\n",
    "                    [ - 0.26 , - 0.27 , 0.17 , 0.87 ]])\n",
    "biases = np.array([ 2.0 , 3.0 , 0.5 ])\n",
    "\n",
    "# output \n",
    "layer_outputs = np.dot(weights, inputs) + biases\n",
    "print (layer_outputs)"
   ]
  },
  {
   "cell_type": "markdown",
   "metadata": {},
   "source": [
    "## Batch of Data"
   ]
  },
  {
   "cell_type": "code",
   "execution_count": 19,
   "metadata": {},
   "outputs": [
    {
     "name": "stdout",
     "output_type": "stream",
     "text": [
      "Layer outputs:\n",
      "[[ 4.8    1.21   2.385]\n",
      " [ 8.9   -1.81   0.2  ]\n",
      " [ 1.41   1.051  0.026]]\n"
     ]
    }
   ],
   "source": [
    "import numpy as np\n",
    "\n",
    "class Neuron:\n",
    "    def __init__(self, weights, bias):\n",
    "        \"\"\"\n",
    "        Initialize a neuron with weights and a bias.\n",
    "        :param weights: List of weights for each input.\n",
    "        :param bias: The bias term for the neuron.\n",
    "        \"\"\"\n",
    "        self.weights = np.array(weights)\n",
    "        self.bias = bias\n",
    "\n",
    "    def output(self, inputs):\n",
    "        \"\"\"\n",
    "        Calculate the output of the neuron for a batch of inputs.\n",
    "        :param inputs: 2D NumPy array where each row is a set of inputs.\n",
    "        :return: 1D NumPy array of outputs for the batch.\n",
    "        \"\"\"\n",
    "        # Compute dot product for the batch and add the bias\n",
    "        # The order of the dot product matters now - since here Broadcasting rules apply!\n",
    "        return np.dot(inputs, self.weights) + self.bias\n",
    "\n",
    "\n",
    "class Layer:\n",
    "    def __init__(self, neurons):\n",
    "        \"\"\"\n",
    "        Initialize a layer with multiple neurons.\n",
    "        :param neurons: List of Neuron objects.\n",
    "        \"\"\"\n",
    "        self.neurons = neurons\n",
    "\n",
    "    def outputs(self, inputs):\n",
    "        \"\"\"\n",
    "        Calculate the outputs of all neurons in the layer for a batch of inputs.\n",
    "        :param inputs: 2D NumPy array where each row is a set of inputs.\n",
    "        :return: 2D NumPy array where each row contains outputs for one input set.\n",
    "        \"\"\"\n",
    "        # Compute the outputs for all neurons and stack them into a 2D array\n",
    "        # Note the transpose we have to make\n",
    "        return np.array([neuron.output(inputs) for neuron in self.neurons]).T\n",
    "\n",
    "\n",
    "# Example usage:\n",
    "# Define weights and biases for 3 neurons, each accepting 4 inputs\n",
    "neuron1 = Neuron(weights=[0.2, 0.8, -0.5, 1.0], bias=2.0)\n",
    "neuron2 = Neuron(weights=[0.5, -0.91, 0.26, -0.5], bias=3.0)\n",
    "neuron3 = Neuron(weights=[-0.26, -0.27, 0.17, 0.87], bias=0.5)\n",
    "\n",
    "# Create a layer with the 3 neurons\n",
    "layer = Layer(neurons=[neuron1, neuron2, neuron3])\n",
    "\n",
    "# Example batch of inputs (2D NumPy array)\n",
    "inputs = np.array([\n",
    "    [1, 2, 3, 2.5],  # First input set\n",
    "    [2, 5, -1, 2],   # Second input set\n",
    "    [-1.5, 2.7, 3.3, -0.8]  # Third input set\n",
    "])\n",
    "\n",
    "# Get the outputs of the layer for the batch\n",
    "outputs = layer.outputs(inputs)\n",
    "print(f\"Layer outputs:\\n{outputs}\")\n"
   ]
  },
  {
   "cell_type": "markdown",
   "metadata": {},
   "source": [
    "Here in the resultant output matrix, each row represent the output of a neuron of the layer!"
   ]
  },
  {
   "cell_type": "code",
   "execution_count": null,
   "metadata": {},
   "outputs": [],
   "source": []
  }
 ],
 "metadata": {
  "kernelspec": {
   "display_name": "env",
   "language": "python",
   "name": "python3"
  },
  "language_info": {
   "codemirror_mode": {
    "name": "ipython",
    "version": 3
   },
   "file_extension": ".py",
   "mimetype": "text/x-python",
   "name": "python",
   "nbconvert_exporter": "python",
   "pygments_lexer": "ipython3",
   "version": "3.13.1"
  }
 },
 "nbformat": 4,
 "nbformat_minor": 2
}
